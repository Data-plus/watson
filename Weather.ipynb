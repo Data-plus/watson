{
 "cells": [
  {
   "cell_type": "code",
   "execution_count": 40,
   "metadata": {},
   "outputs": [],
   "source": [
    "import urllib\n",
    "import json"
   ]
  },
  {
   "cell_type": "code",
   "execution_count": 41,
   "metadata": {},
   "outputs": [],
   "source": [
    "apiurl = 'http://api.openweathermap.org/data/2.5/weather?q='\n",
    "apikey = '&APPID=1cde1e9574fa45f1c36910ddb2d8c0e6'"
   ]
  },
  {
   "cell_type": "code",
   "execution_count": 42,
   "metadata": {},
   "outputs": [],
   "source": [
    "def get_weather():\n",
    "    print(\"Type name of the city\")\n",
    "    city = input()\n",
    "    url = urllib.request.urlopen(apiurl + city + apikey)\n",
    "    apid = url.read()\n",
    "    data = json.loads(apid)\n",
    "    \n",
    "    cityname = data['name']\n",
    "    weather = data['weather'][0]['main']\n",
    "    temp = int(data['main']['temp'] - 273.15)\n",
    " \n",
    "    return print(cityname + ':', weather + ',', str(temp) + '˚C')"
   ]
  },
  {
   "cell_type": "code",
   "execution_count": 43,
   "metadata": {},
   "outputs": [
    {
     "name": "stdout",
     "output_type": "stream",
     "text": [
      "Type name of the city\n",
      "melbourne\n",
      "Melbourne: Clouds, 18˚C\n"
     ]
    }
   ],
   "source": [
    "get_weather()"
   ]
  },
  {
   "cell_type": "code",
   "execution_count": null,
   "metadata": {},
   "outputs": [],
   "source": []
  },
  {
   "cell_type": "code",
   "execution_count": null,
   "metadata": {},
   "outputs": [],
   "source": []
  }
 ],
 "metadata": {
  "kernelspec": {
   "display_name": "Python 3",
   "language": "python",
   "name": "python3"
  },
  "language_info": {
   "codemirror_mode": {
    "name": "ipython",
    "version": 3
   },
   "file_extension": ".py",
   "mimetype": "text/x-python",
   "name": "python",
   "nbconvert_exporter": "python",
   "pygments_lexer": "ipython3",
   "version": "3.7.0"
  }
 },
 "nbformat": 4,
 "nbformat_minor": 2
}
